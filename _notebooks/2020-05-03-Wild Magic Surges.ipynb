{
 "cells": [
  {
   "cell_type": "markdown",
   "metadata": {},
   "source": [
    "# \"Wild Magic Surges\"\n",
    "- categories: [dnd, jupyter]"
   ]
  },
  {
   "cell_type": "markdown",
   "metadata": {},
   "source": [
    "### A Comparison of Two Homebrew Methods\n",
    "\n",
    "In order to make wild magic surges a more frequent occurence, we can tweak the rules to trigger them. Two such tweaks are:\n",
    "\n",
    "1. he \"Increasing Count\" method. Start as usual with a Wild Magic Surge triggering when the player rolls a 1 on their Surge roll. Every time a Surge *does not occur*, increase the D.C. for avoiding the Surge by one: 1 $\\rightarrow$ 2 $\\rightarrow$ 3, etc. When a Surge *does* occur, reset the D.C. to 1.\n",
    "\n",
    "2. The \"Decreasing Dice\" method. Start as usual with a Wild Magic Surge triggering when the player rolls a 1 on their d20 Surge roll. Every time a surge *does not occur*, decrease the size of the dice by one: d20 $\\rightarrow$ d12 $\\rightarrow$ d10, etc. When a Surge *does* occur, reset the dice to a d20. Here we stop at a d4 and just make the player continue rolling a d4 until they do get a Surge, but you could continue down to a coin flip, and you could even continue from a coin flip to an automatic Surge (rolling a 1 on a \"d1\").\n",
    "\n",
    "Below we calculate the probabilities of triggering a Wild Magic Surge under both of the above systems."
   ]
  },
  {
   "cell_type": "code",
   "execution_count": 199,
   "metadata": {},
   "outputs": [],
   "source": [
    "import numpy as np\n",
    "import pandas as pd\n",
    "import altair as alt\n",
    "dice = [20, 12, 10, 8, 6, 4, 4, 4, 4, 4, 4, 4, 4, 4, 4, 4, 4, 4, 4, 4]\n",
    "count = [*range(1,21)]"
   ]
  },
  {
   "cell_type": "markdown",
   "metadata": {},
   "source": [
    "First, we build a list of probabilities for *not* rolling a 1 on each of the dice: d20, d12, d10, ..., d4"
   ]
  },
  {
   "cell_type": "code",
   "execution_count": 193,
   "metadata": {},
   "outputs": [],
   "source": [
    "diceP = list(map(lambda x: 1-(1/x), dice))"
   ]
  },
  {
   "cell_type": "markdown",
   "metadata": {},
   "source": [
    "We also build a list of probabilities for *not* rolling (1), (1/2), (1/2/3), etc. on a d20:"
   ]
  },
  {
   "cell_type": "code",
   "execution_count": 194,
   "metadata": {},
   "outputs": [],
   "source": [
    "countP = list(map(lambda x: 1-(x/20), count))"
   ]
  },
  {
   "cell_type": "markdown",
   "metadata": {},
   "source": [
    "Then we multiply the first $i$ probabilities together &mdash; for $i = 1,2,3, \\dots , 20$ &mdash; to get the probability of going $i$ rolls without a Wild Magic Surge under either system:"
   ]
  },
  {
   "cell_type": "code",
   "execution_count": 195,
   "metadata": {},
   "outputs": [],
   "source": [
    "diceCDF = []\n",
    "countCDF = []\n",
    "for i in range(1,21):\n",
    "    diceCDF.append(np.prod(diceP[:i]))\n",
    "    countCDF.append(np.prod(countP[:i]))"
   ]
  },
  {
   "cell_type": "markdown",
   "metadata": {},
   "source": [
    "Lastly, because it's more intuitive to think about it this way, we subtract each of these probabilities from $1$ to get the probability of encountering a surge in $x$ number of rolls:"
   ]
  },
  {
   "cell_type": "code",
   "execution_count": 196,
   "metadata": {},
   "outputs": [],
   "source": [
    "diceCDF = list(map(lambda x: 1-x, diceCDF))\n",
    "countCDF = list(map(lambda x: 1-x, countCDF))\n",
    "\n",
    "data = []\n",
    "for i in range(0, len(diceCDF)):\n",
    "    data.append([i+1, diceCDF[i], 'Decreasing Dice'])\n",
    "    data.append([i+1, countCDF[i], 'Increasing Count'])"
   ]
  },
  {
   "cell_type": "markdown",
   "metadata": {},
   "source": [
    "And now, the fun part, we plot the results!"
   ]
  },
  {
   "cell_type": "code",
   "execution_count": 197,
   "metadata": {},
   "outputs": [
    {
     "data": {
      "text/html": [
       "\n",
       "<div id=\"altair-viz-f6c291ef1834481fb59910f00fc2b3e8\"></div>\n",
       "<script type=\"text/javascript\">\n",
       "  (function(spec, embedOpt){\n",
       "    let outputDiv = document.currentScript.previousElementSibling;\n",
       "    if (outputDiv.id !== \"altair-viz-f6c291ef1834481fb59910f00fc2b3e8\") {\n",
       "      outputDiv = document.getElementById(\"altair-viz-f6c291ef1834481fb59910f00fc2b3e8\");\n",
       "    }\n",
       "    const paths = {\n",
       "      \"vega\": \"https://cdn.jsdelivr.net/npm//vega@5?noext\",\n",
       "      \"vega-lib\": \"https://cdn.jsdelivr.net/npm//vega-lib?noext\",\n",
       "      \"vega-lite\": \"https://cdn.jsdelivr.net/npm//vega-lite@4.8.1?noext\",\n",
       "      \"vega-embed\": \"https://cdn.jsdelivr.net/npm//vega-embed@6?noext\",\n",
       "    };\n",
       "\n",
       "    function loadScript(lib) {\n",
       "      return new Promise(function(resolve, reject) {\n",
       "        var s = document.createElement('script');\n",
       "        s.src = paths[lib];\n",
       "        s.async = true;\n",
       "        s.onload = () => resolve(paths[lib]);\n",
       "        s.onerror = () => reject(`Error loading script: ${paths[lib]}`);\n",
       "        document.getElementsByTagName(\"head\")[0].appendChild(s);\n",
       "      });\n",
       "    }\n",
       "\n",
       "    function showError(err) {\n",
       "      outputDiv.innerHTML = `<div class=\"error\" style=\"color:red;\">${err}</div>`;\n",
       "      throw err;\n",
       "    }\n",
       "\n",
       "    function displayChart(vegaEmbed) {\n",
       "      vegaEmbed(outputDiv, spec, embedOpt)\n",
       "        .catch(err => showError(`Javascript Error: ${err.message}<br>This usually means there's a typo in your chart specification. See the javascript console for the full traceback.`));\n",
       "    }\n",
       "\n",
       "    if(typeof define === \"function\" && define.amd) {\n",
       "      requirejs.config({paths});\n",
       "      require([\"vega-embed\"], displayChart, err => showError(`Error loading script: ${err.message}`));\n",
       "    } else if (typeof vegaEmbed === \"function\") {\n",
       "      displayChart(vegaEmbed);\n",
       "    } else {\n",
       "      loadScript(\"vega\")\n",
       "        .then(() => loadScript(\"vega-lite\"))\n",
       "        .then(() => loadScript(\"vega-embed\"))\n",
       "        .catch(showError)\n",
       "        .then(() => displayChart(vegaEmbed));\n",
       "    }\n",
       "  })({\"config\": {\"view\": {\"continuousWidth\": 400, \"continuousHeight\": 300}}, \"layer\": [{\"mark\": \"point\", \"encoding\": {\"opacity\": {\"value\": 0}, \"x\": {\"type\": \"ordinal\", \"field\": \"Number of Rolls\"}}, \"selection\": {\"selector020\": {\"type\": \"single\", \"nearest\": true, \"on\": \"mouseover\", \"fields\": [\"Number of Rolls\"], \"empty\": \"none\"}}}, {\"mark\": \"circle\", \"encoding\": {\"color\": {\"type\": \"nominal\", \"field\": \"Method\"}, \"opacity\": {\"condition\": {\"value\": 1, \"selection\": \"selector020\"}, \"value\": 0.6}, \"x\": {\"type\": \"ordinal\", \"field\": \"Number of Rolls\"}, \"y\": {\"type\": \"quantitative\", \"field\": \"Probability\", \"title\": \"Probability of a Surge\"}}}, {\"mark\": {\"type\": \"rule\", \"color\": \"gray\"}, \"encoding\": {\"x\": {\"type\": \"ordinal\", \"field\": \"Number of Rolls\"}}, \"transform\": [{\"filter\": {\"selection\": \"selector020\"}}]}, {\"mark\": {\"type\": \"text\", \"align\": \"left\", \"dx\": 5, \"dy\": -5}, \"encoding\": {\"color\": {\"type\": \"nominal\", \"field\": \"Method\"}, \"opacity\": {\"condition\": {\"value\": 1, \"selection\": \"selector020\"}, \"value\": 0.6}, \"text\": {\"condition\": {\"type\": \"quantitative\", \"field\": \"Probability\", \"selection\": \"selector020\"}, \"value\": \" \"}, \"x\": {\"type\": \"ordinal\", \"field\": \"Number of Rolls\"}, \"y\": {\"type\": \"quantitative\", \"field\": \"Probability\", \"title\": \"Probability of a Surge\"}}}], \"data\": {\"name\": \"data-79db29fd28c61daa3ca9ade5493f319d\"}, \"height\": 300, \"width\": 600, \"$schema\": \"https://vega.github.io/schema/vega-lite/v4.8.1.json\", \"datasets\": {\"data-79db29fd28c61daa3ca9ade5493f319d\": [{\"Number of Rolls\": 1, \"Probability\": 0.050000000000000044, \"Method\": \"Decreasing Dice\"}, {\"Number of Rolls\": 1, \"Probability\": 0.050000000000000044, \"Method\": \"Increasing Count\"}, {\"Number of Rolls\": 2, \"Probability\": 0.12916666666666676, \"Method\": \"Decreasing Dice\"}, {\"Number of Rolls\": 2, \"Probability\": 0.14500000000000002, \"Method\": \"Increasing Count\"}, {\"Number of Rolls\": 3, \"Probability\": 0.21625000000000005, \"Method\": \"Decreasing Dice\"}, {\"Number of Rolls\": 3, \"Probability\": 0.27325, \"Method\": \"Increasing Count\"}, {\"Number of Rolls\": 4, \"Probability\": 0.31421875, \"Method\": \"Decreasing Dice\"}, {\"Number of Rolls\": 4, \"Probability\": 0.41859999999999997, \"Method\": \"Increasing Count\"}, {\"Number of Rolls\": 5, \"Probability\": 0.42851562499999996, \"Method\": \"Decreasing Dice\"}, {\"Number of Rolls\": 5, \"Probability\": 0.56395, \"Method\": \"Increasing Count\"}, {\"Number of Rolls\": 6, \"Probability\": 0.5713867187499999, \"Method\": \"Decreasing Dice\"}, {\"Number of Rolls\": 6, \"Probability\": 0.694765, \"Method\": \"Increasing Count\"}, {\"Number of Rolls\": 7, \"Probability\": 0.6785400390625, \"Method\": \"Decreasing Dice\"}, {\"Number of Rolls\": 7, \"Probability\": 0.8015972499999999, \"Method\": \"Increasing Count\"}, {\"Number of Rolls\": 8, \"Probability\": 0.758905029296875, \"Method\": \"Decreasing Dice\"}, {\"Number of Rolls\": 8, \"Probability\": 0.88095835, \"Method\": \"Increasing Count\"}, {\"Number of Rolls\": 9, \"Probability\": 0.8191787719726562, \"Method\": \"Decreasing Dice\"}, {\"Number of Rolls\": 9, \"Probability\": 0.9345270925, \"Method\": \"Increasing Count\"}, {\"Number of Rolls\": 10, \"Probability\": 0.8643840789794922, \"Method\": \"Decreasing Dice\"}, {\"Number of Rolls\": 10, \"Probability\": 0.96726354625, \"Method\": \"Increasing Count\"}, {\"Number of Rolls\": 11, \"Probability\": 0.8982880592346192, \"Method\": \"Decreasing Dice\"}, {\"Number of Rolls\": 11, \"Probability\": 0.9852685958125, \"Method\": \"Increasing Count\"}, {\"Number of Rolls\": 12, \"Probability\": 0.9237160444259643, \"Method\": \"Decreasing Dice\"}, {\"Number of Rolls\": 12, \"Probability\": 0.994107438325, \"Method\": \"Increasing Count\"}, {\"Number of Rolls\": 13, \"Probability\": 0.9427870333194732, \"Method\": \"Decreasing Dice\"}, {\"Number of Rolls\": 13, \"Probability\": 0.99793760341375, \"Method\": \"Increasing Count\"}, {\"Number of Rolls\": 14, \"Probability\": 0.957090274989605, \"Method\": \"Decreasing Dice\"}, {\"Number of Rolls\": 14, \"Probability\": 0.999381281024125, \"Method\": \"Increasing Count\"}, {\"Number of Rolls\": 15, \"Probability\": 0.9678177062422038, \"Method\": \"Decreasing Dice\"}, {\"Number of Rolls\": 15, \"Probability\": 0.9998453202560312, \"Method\": \"Increasing Count\"}, {\"Number of Rolls\": 16, \"Probability\": 0.9758632796816528, \"Method\": \"Decreasing Dice\"}, {\"Number of Rolls\": 16, \"Probability\": 0.9999690640512062, \"Method\": \"Increasing Count\"}, {\"Number of Rolls\": 17, \"Probability\": 0.9818974597612395, \"Method\": \"Decreasing Dice\"}, {\"Number of Rolls\": 17, \"Probability\": 0.9999953596076809, \"Method\": \"Increasing Count\"}, {\"Number of Rolls\": 18, \"Probability\": 0.9864230948209297, \"Method\": \"Decreasing Dice\"}, {\"Number of Rolls\": 18, \"Probability\": 0.9999995359607681, \"Method\": \"Increasing Count\"}, {\"Number of Rolls\": 19, \"Probability\": 0.9898173211156973, \"Method\": \"Decreasing Dice\"}, {\"Number of Rolls\": 19, \"Probability\": 0.9999999767980384, \"Method\": \"Increasing Count\"}, {\"Number of Rolls\": 20, \"Probability\": 0.9923629908367729, \"Method\": \"Decreasing Dice\"}, {\"Number of Rolls\": 20, \"Probability\": 1.0, \"Method\": \"Increasing Count\"}]}}, {\"mode\": \"vega-lite\"});\n",
       "</script>"
      ],
      "text/plain": [
       "alt.LayerChart(...)"
      ]
     },
     "execution_count": 197,
     "metadata": {},
     "output_type": "execute_result"
    }
   ],
   "source": [
    "#collapse\n",
    "df = pd.DataFrame(data, columns=['Number of Rolls', 'Probability', 'Method'])\n",
    "df.reset_index()\n",
    "\n",
    "# Create a selection that chooses the nearest point & selects based on x-value\n",
    "nearest = alt.selection(type='single', nearest=True, on='mouseover',\n",
    "                        fields=['Number of Rolls'], empty='none')\n",
    "\n",
    "points = alt.Chart(df).mark_circle().encode(\n",
    "    x='Number of Rolls:O',\n",
    "    y=alt.Y('Probability', title='Probability of a Surge'),\n",
    "    color='Method',\n",
    "    opacity=alt.condition(nearest, alt.value(1), alt.value(.6))\n",
    ")\n",
    "\n",
    "# Transparent selectors across the chart. This is what tells us\n",
    "# the x-value of the cursor\n",
    "selectors = alt.Chart(df).mark_point().encode(\n",
    "    x='Number of Rolls:O',\n",
    "    opacity=alt.value(0),\n",
    ").add_selection(\n",
    "    nearest\n",
    ")\n",
    "\n",
    "# Draw text labels near the points, and highlight based on selection\n",
    "text = points.mark_text(align='left', dx=5, dy=-5).encode(\n",
    "    text=alt.condition(nearest, 'Probability:Q',alt.value(' '))\n",
    ")\n",
    "\n",
    "# Draw a rule at the location of the selection\n",
    "rules = alt.Chart(df).mark_rule(color='gray').encode(\n",
    "    x='Number of Rolls:O',\n",
    ").transform_filter(\n",
    "    nearest\n",
    ")\n",
    "\n",
    "# Put the five layers into a chart and bind the data\n",
    "alt.layer(\n",
    "    selectors, points, rules, text\n",
    ").properties(\n",
    "    width=600, height=300\n",
    ")"
   ]
  },
  {
   "cell_type": "markdown",
   "metadata": {},
   "source": [
    "Lastly, here is the same data, but in a table view:"
   ]
  },
  {
   "cell_type": "code",
   "execution_count": 198,
   "metadata": {},
   "outputs": [
    {
     "data": {
      "text/html": [
       "<div>\n",
       "<style scoped>\n",
       "    .dataframe tbody tr th:only-of-type {\n",
       "        vertical-align: middle;\n",
       "    }\n",
       "\n",
       "    .dataframe tbody tr th {\n",
       "        vertical-align: top;\n",
       "    }\n",
       "\n",
       "    .dataframe thead tr th {\n",
       "        text-align: left;\n",
       "    }\n",
       "\n",
       "    .dataframe thead tr:last-of-type th {\n",
       "        text-align: right;\n",
       "    }\n",
       "</style>\n",
       "<table border=\"1\" class=\"dataframe\">\n",
       "  <thead>\n",
       "    <tr>\n",
       "      <th></th>\n",
       "      <th colspan=\"2\" halign=\"left\">Probability</th>\n",
       "    </tr>\n",
       "    <tr>\n",
       "      <th>Method</th>\n",
       "      <th>Decreasing Dice</th>\n",
       "      <th>Increasing Count</th>\n",
       "    </tr>\n",
       "    <tr>\n",
       "      <th>Number of Rolls</th>\n",
       "      <th></th>\n",
       "      <th></th>\n",
       "    </tr>\n",
       "  </thead>\n",
       "  <tbody>\n",
       "    <tr>\n",
       "      <th>1</th>\n",
       "      <td>0.050000</td>\n",
       "      <td>0.050000</td>\n",
       "    </tr>\n",
       "    <tr>\n",
       "      <th>2</th>\n",
       "      <td>0.129167</td>\n",
       "      <td>0.145000</td>\n",
       "    </tr>\n",
       "    <tr>\n",
       "      <th>3</th>\n",
       "      <td>0.216250</td>\n",
       "      <td>0.273250</td>\n",
       "    </tr>\n",
       "    <tr>\n",
       "      <th>4</th>\n",
       "      <td>0.314219</td>\n",
       "      <td>0.418600</td>\n",
       "    </tr>\n",
       "    <tr>\n",
       "      <th>5</th>\n",
       "      <td>0.428516</td>\n",
       "      <td>0.563950</td>\n",
       "    </tr>\n",
       "    <tr>\n",
       "      <th>6</th>\n",
       "      <td>0.571387</td>\n",
       "      <td>0.694765</td>\n",
       "    </tr>\n",
       "    <tr>\n",
       "      <th>7</th>\n",
       "      <td>0.678540</td>\n",
       "      <td>0.801597</td>\n",
       "    </tr>\n",
       "    <tr>\n",
       "      <th>8</th>\n",
       "      <td>0.758905</td>\n",
       "      <td>0.880958</td>\n",
       "    </tr>\n",
       "    <tr>\n",
       "      <th>9</th>\n",
       "      <td>0.819179</td>\n",
       "      <td>0.934527</td>\n",
       "    </tr>\n",
       "    <tr>\n",
       "      <th>10</th>\n",
       "      <td>0.864384</td>\n",
       "      <td>0.967264</td>\n",
       "    </tr>\n",
       "    <tr>\n",
       "      <th>11</th>\n",
       "      <td>0.898288</td>\n",
       "      <td>0.985269</td>\n",
       "    </tr>\n",
       "    <tr>\n",
       "      <th>12</th>\n",
       "      <td>0.923716</td>\n",
       "      <td>0.994107</td>\n",
       "    </tr>\n",
       "    <tr>\n",
       "      <th>13</th>\n",
       "      <td>0.942787</td>\n",
       "      <td>0.997938</td>\n",
       "    </tr>\n",
       "    <tr>\n",
       "      <th>14</th>\n",
       "      <td>0.957090</td>\n",
       "      <td>0.999381</td>\n",
       "    </tr>\n",
       "    <tr>\n",
       "      <th>15</th>\n",
       "      <td>0.967818</td>\n",
       "      <td>0.999845</td>\n",
       "    </tr>\n",
       "    <tr>\n",
       "      <th>16</th>\n",
       "      <td>0.975863</td>\n",
       "      <td>0.999969</td>\n",
       "    </tr>\n",
       "    <tr>\n",
       "      <th>17</th>\n",
       "      <td>0.981897</td>\n",
       "      <td>0.999995</td>\n",
       "    </tr>\n",
       "    <tr>\n",
       "      <th>18</th>\n",
       "      <td>0.986423</td>\n",
       "      <td>1.000000</td>\n",
       "    </tr>\n",
       "    <tr>\n",
       "      <th>19</th>\n",
       "      <td>0.989817</td>\n",
       "      <td>1.000000</td>\n",
       "    </tr>\n",
       "    <tr>\n",
       "      <th>20</th>\n",
       "      <td>0.992363</td>\n",
       "      <td>1.000000</td>\n",
       "    </tr>\n",
       "  </tbody>\n",
       "</table>\n",
       "</div>"
      ],
      "text/plain": [
       "                    Probability                 \n",
       "Method          Decreasing Dice Increasing Count\n",
       "Number of Rolls                                 \n",
       "1                      0.050000         0.050000\n",
       "2                      0.129167         0.145000\n",
       "3                      0.216250         0.273250\n",
       "4                      0.314219         0.418600\n",
       "5                      0.428516         0.563950\n",
       "6                      0.571387         0.694765\n",
       "7                      0.678540         0.801597\n",
       "8                      0.758905         0.880958\n",
       "9                      0.819179         0.934527\n",
       "10                     0.864384         0.967264\n",
       "11                     0.898288         0.985269\n",
       "12                     0.923716         0.994107\n",
       "13                     0.942787         0.997938\n",
       "14                     0.957090         0.999381\n",
       "15                     0.967818         0.999845\n",
       "16                     0.975863         0.999969\n",
       "17                     0.981897         0.999995\n",
       "18                     0.986423         1.000000\n",
       "19                     0.989817         1.000000\n",
       "20                     0.992363         1.000000"
      ]
     },
     "execution_count": 198,
     "metadata": {},
     "output_type": "execute_result"
    }
   ],
   "source": [
    "df.pivot(index='Number of Rolls', columns='Method')"
   ]
  }
 ],
 "metadata": {
  "kernelspec": {
   "display_name": "Python 3",
   "language": "python",
   "name": "python3"
  },
  "language_info": {
   "codemirror_mode": {
    "name": "ipython",
    "version": 3
   },
   "file_extension": ".py",
   "mimetype": "text/x-python",
   "name": "python",
   "nbconvert_exporter": "python",
   "pygments_lexer": "ipython3",
   "version": "3.7.5"
  }
 },
 "nbformat": 4,
 "nbformat_minor": 4
}
